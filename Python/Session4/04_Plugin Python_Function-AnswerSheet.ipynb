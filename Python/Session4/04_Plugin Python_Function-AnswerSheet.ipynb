{
 "cells": [
  {
   "cell_type": "markdown",
   "id": "9acbbf6c",
   "metadata": {},
   "source": [
    "<img src=\"https://filoger.com/wp-content/uploads/2021/09/circle-logo-1536x1536.png\" alt=\"Filoger\" width=\"200\" height=\"200\">\n",
    "\n",
    "<h1 align=\"center\"><font size = 14>Plugin Python</font></h1>\n",
    "<h4 align=\"center\">June, 2023<h4>\n",
    "<h3 align=\"center\"><font size = 7>Session4</font></h3>\n",
    "<h3 align=\"center\">Zahra Amini</h3>\n",
    "<br>\n",
    "<br>\n",
    "<br>\n",
    "<br>\n",
    "<br>"
   ]
  },
  {
   "cell_type": "markdown",
   "id": "7b431f9a",
   "metadata": {},
   "source": [
    "## Define & Call Function"
   ]
  },
  {
   "cell_type": "code",
   "execution_count": 1,
   "id": "006990f5",
   "metadata": {},
   "outputs": [],
   "source": [
    "def Add1(x):\n",
    "    y = x + 1\n",
    "    return y"
   ]
  },
  {
   "cell_type": "code",
   "execution_count": 2,
   "id": "5a2b3fdc",
   "metadata": {},
   "outputs": [
    {
     "data": {
      "text/plain": [
       "3"
      ]
     },
     "execution_count": 2,
     "metadata": {},
     "output_type": "execute_result"
    }
   ],
   "source": [
    "Add1(2)"
   ]
  },
  {
   "cell_type": "code",
   "execution_count": 3,
   "id": "295a7678",
   "metadata": {},
   "outputs": [
    {
     "data": {
      "text/plain": [
       "3"
      ]
     },
     "execution_count": 3,
     "metadata": {},
     "output_type": "execute_result"
    }
   ],
   "source": [
    "num = 2\n",
    "\n",
    "Add1(num)"
   ]
  },
  {
   "cell_type": "code",
   "execution_count": 4,
   "id": "c85566c3",
   "metadata": {},
   "outputs": [
    {
     "data": {
      "text/plain": [
       "3"
      ]
     },
     "execution_count": 4,
     "metadata": {},
     "output_type": "execute_result"
    }
   ],
   "source": [
    "Add1(x=2)"
   ]
  },
  {
   "cell_type": "markdown",
   "id": "acd5f448",
   "metadata": {},
   "source": [
    "## Function without return"
   ]
  },
  {
   "cell_type": "code",
   "execution_count": 5,
   "id": "001e86f3",
   "metadata": {},
   "outputs": [],
   "source": [
    "def Add(x, y):\n",
    "    add = x + y\n",
    "    print(add)"
   ]
  },
  {
   "cell_type": "code",
   "execution_count": 6,
   "id": "817d2f61",
   "metadata": {},
   "outputs": [
    {
     "name": "stdout",
     "output_type": "stream",
     "text": [
      "12\n"
     ]
    }
   ],
   "source": [
    "Add(x=2, y=10)"
   ]
  },
  {
   "cell_type": "code",
   "execution_count": null,
   "id": "5765558d",
   "metadata": {},
   "outputs": [],
   "source": []
  },
  {
   "cell_type": "markdown",
   "id": "bf3fd538",
   "metadata": {},
   "source": [
    "## Many inputs & outputs"
   ]
  },
  {
   "cell_type": "code",
   "execution_count": 7,
   "id": "b9a28089",
   "metadata": {},
   "outputs": [],
   "source": [
    "def cal(x, y):\n",
    "\n",
    "    add = x + y\n",
    "    sub = x - y\n",
    "    mul = x * y\n",
    "    div = x // y\n",
    "    \n",
    "    return add, sub, mul, div"
   ]
  },
  {
   "cell_type": "code",
   "execution_count": 9,
   "id": "0fcf2552",
   "metadata": {},
   "outputs": [],
   "source": [
    "a, s, m, d = cal(7, 2)"
   ]
  },
  {
   "cell_type": "code",
   "execution_count": 10,
   "id": "8d60707a",
   "metadata": {},
   "outputs": [
    {
     "data": {
      "text/plain": [
       "3"
      ]
     },
     "execution_count": 10,
     "metadata": {},
     "output_type": "execute_result"
    }
   ],
   "source": [
    "d"
   ]
  },
  {
   "cell_type": "markdown",
   "id": "edef8ab1",
   "metadata": {},
   "source": [
    "## Default parameter value"
   ]
  },
  {
   "cell_type": "code",
   "execution_count": 11,
   "id": "6a3e56db",
   "metadata": {},
   "outputs": [],
   "source": [
    "def div(a, b, typ):\n",
    "    if typ == 'int':\n",
    "        out = a // b\n",
    "    elif typ == 'float':\n",
    "        out = a / b\n",
    "    return out    "
   ]
  },
  {
   "cell_type": "code",
   "execution_count": 12,
   "id": "2620b9f5",
   "metadata": {},
   "outputs": [
    {
     "data": {
      "text/plain": [
       "3"
      ]
     },
     "execution_count": 12,
     "metadata": {},
     "output_type": "execute_result"
    }
   ],
   "source": [
    "div(7, 2, 'int')"
   ]
  },
  {
   "cell_type": "code",
   "execution_count": 13,
   "id": "4e143c14",
   "metadata": {},
   "outputs": [
    {
     "data": {
      "text/plain": [
       "3.5"
      ]
     },
     "execution_count": 13,
     "metadata": {},
     "output_type": "execute_result"
    }
   ],
   "source": [
    "div(7, 2, 'float')"
   ]
  },
  {
   "cell_type": "code",
   "execution_count": 15,
   "id": "23c4d6b5",
   "metadata": {},
   "outputs": [],
   "source": [
    "# div(7, 2)"
   ]
  },
  {
   "cell_type": "markdown",
   "id": "c8a0c3bc",
   "metadata": {},
   "source": [
    "#### default value"
   ]
  },
  {
   "cell_type": "code",
   "execution_count": 16,
   "id": "7b5a1da9",
   "metadata": {},
   "outputs": [],
   "source": [
    "def div2(a, b, typ='float'):\n",
    "    if typ == 'int':\n",
    "        out = a // b\n",
    "    elif typ == 'float':\n",
    "        out = a / b\n",
    "    return out    "
   ]
  },
  {
   "cell_type": "code",
   "execution_count": 18,
   "id": "8f0c053b",
   "metadata": {},
   "outputs": [
    {
     "data": {
      "text/plain": [
       "3"
      ]
     },
     "execution_count": 18,
     "metadata": {},
     "output_type": "execute_result"
    }
   ],
   "source": [
    "div2(7, 2, 'int')"
   ]
  },
  {
   "cell_type": "code",
   "execution_count": null,
   "id": "546d3cd1",
   "metadata": {},
   "outputs": [],
   "source": []
  },
  {
   "cell_type": "markdown",
   "id": "5bbac876",
   "metadata": {},
   "source": [
    "## Unknown number of inputs"
   ]
  },
  {
   "cell_type": "markdown",
   "id": "9d3f7a61",
   "metadata": {},
   "source": [
    "### *args"
   ]
  },
  {
   "cell_type": "code",
   "execution_count": 19,
   "id": "a3aacf5d",
   "metadata": {},
   "outputs": [],
   "source": [
    "def pr(*inputs):\n",
    "    print(inputs, '--->', type(inputs))"
   ]
  },
  {
   "cell_type": "code",
   "execution_count": 20,
   "id": "1eb51ca5",
   "metadata": {},
   "outputs": [
    {
     "name": "stdout",
     "output_type": "stream",
     "text": [
      "(1, 2, 3, 4) ---> <class 'tuple'>\n"
     ]
    }
   ],
   "source": [
    "pr(1, 2, 3, 4)"
   ]
  },
  {
   "cell_type": "code",
   "execution_count": 21,
   "id": "809514af",
   "metadata": {},
   "outputs": [
    {
     "name": "stdout",
     "output_type": "stream",
     "text": [
      "('a', 'b') ---> <class 'tuple'>\n"
     ]
    }
   ],
   "source": [
    "pr('a', 'b')"
   ]
  },
  {
   "cell_type": "code",
   "execution_count": 22,
   "id": "2b2b772a",
   "metadata": {},
   "outputs": [],
   "source": [
    "def avg(*x):\n",
    "    return sum(x) / len(x)"
   ]
  },
  {
   "cell_type": "code",
   "execution_count": 23,
   "id": "514ae791",
   "metadata": {},
   "outputs": [
    {
     "data": {
      "text/plain": [
       "3.0"
      ]
     },
     "execution_count": 23,
     "metadata": {},
     "output_type": "execute_result"
    }
   ],
   "source": [
    "avg(1, 2, 3, 4, 5)"
   ]
  },
  {
   "cell_type": "code",
   "execution_count": null,
   "id": "7c59e9cc",
   "metadata": {},
   "outputs": [],
   "source": []
  },
  {
   "cell_type": "markdown",
   "id": "0bbbf3c7",
   "metadata": {},
   "source": [
    "### **kwargs"
   ]
  },
  {
   "cell_type": "code",
   "execution_count": 24,
   "id": "262d10d3",
   "metadata": {},
   "outputs": [],
   "source": [
    "def prd(**inputs):\n",
    "    print(inputs, '--->', type(inputs))"
   ]
  },
  {
   "cell_type": "code",
   "execution_count": 26,
   "id": "e124162c",
   "metadata": {},
   "outputs": [],
   "source": [
    "# prd(1, 2, 3)"
   ]
  },
  {
   "cell_type": "code",
   "execution_count": 27,
   "id": "83d45c93",
   "metadata": {},
   "outputs": [
    {
     "name": "stdout",
     "output_type": "stream",
     "text": [
      "{'key': 1, 'key2': 2, 'key3': 3} ---> <class 'dict'>\n"
     ]
    }
   ],
   "source": [
    "prd(key=1, key2=2, key3=3)"
   ]
  },
  {
   "cell_type": "code",
   "execution_count": 28,
   "id": "c908c88a",
   "metadata": {},
   "outputs": [],
   "source": [
    "def avgd(**inputs):\n",
    "    result = {}\n",
    "    for key, value in inputs.items():\n",
    "        result[key] = sum(value) / len(value)\n",
    "    return result"
   ]
  },
  {
   "cell_type": "code",
   "execution_count": 29,
   "id": "641cf8e1",
   "metadata": {},
   "outputs": [
    {
     "data": {
      "text/plain": [
       "{'sara': 19.0, 'ali': 13.333333333333334, 'zahra': 17.0}"
      ]
     },
     "execution_count": 29,
     "metadata": {},
     "output_type": "execute_result"
    }
   ],
   "source": [
    "avgd(sara=(19, 18, 20), ali=(10, 12, 18), zahra=(15, 16, 20))"
   ]
  },
  {
   "cell_type": "markdown",
   "id": "ad504f87",
   "metadata": {},
   "source": [
    "## lambda"
   ]
  },
  {
   "cell_type": "code",
   "execution_count": 30,
   "id": "b50dce36",
   "metadata": {},
   "outputs": [],
   "source": [
    "def avg(a):\n",
    "    out = sum(a) / len(a)\n",
    "    return out"
   ]
  },
  {
   "cell_type": "code",
   "execution_count": 31,
   "id": "7a7bcec9",
   "metadata": {},
   "outputs": [
    {
     "data": {
      "text/plain": [
       "<function __main__.<lambda>(a)>"
      ]
     },
     "execution_count": 31,
     "metadata": {},
     "output_type": "execute_result"
    }
   ],
   "source": [
    "avgl = lambda a: sum(a) / len(a)\n",
    "\n",
    "avgl"
   ]
  },
  {
   "cell_type": "code",
   "execution_count": 32,
   "id": "70991c4f",
   "metadata": {},
   "outputs": [
    {
     "data": {
      "text/plain": [
       "2.0"
      ]
     },
     "execution_count": 32,
     "metadata": {},
     "output_type": "execute_result"
    }
   ],
   "source": [
    "avgl([1, 2, 3])"
   ]
  },
  {
   "cell_type": "code",
   "execution_count": 33,
   "id": "a12825c2",
   "metadata": {},
   "outputs": [
    {
     "data": {
      "text/plain": [
       "<function __main__.<lambda>(a, b)>"
      ]
     },
     "execution_count": 33,
     "metadata": {},
     "output_type": "execute_result"
    }
   ],
   "source": [
    "avgl2 = lambda a, b: (sum(a) / len(a), sum(b))\n",
    "\n",
    "avgl2"
   ]
  },
  {
   "cell_type": "code",
   "execution_count": 34,
   "id": "9228d935",
   "metadata": {},
   "outputs": [
    {
     "data": {
      "text/plain": [
       "(2.0, 18)"
      ]
     },
     "execution_count": 34,
     "metadata": {},
     "output_type": "execute_result"
    }
   ],
   "source": [
    "avgl2(a=[1, 2, 3], b=[8, 10])"
   ]
  },
  {
   "cell_type": "markdown",
   "id": "b7073ac9",
   "metadata": {},
   "source": [
    "## EX"
   ]
  },
  {
   "cell_type": "code",
   "execution_count": 35,
   "id": "fd4ca68e",
   "metadata": {},
   "outputs": [],
   "source": [
    "grades1 = {'ali':[98, 100], 'zahra':[68, 90]}\n",
    "\n",
    "grades2 = {'sara':[100, 73], 'amin':[60, 45]}"
   ]
  },
  {
   "cell_type": "code",
   "execution_count": 36,
   "id": "0a2e8b1e",
   "metadata": {},
   "outputs": [
    {
     "data": {
      "text/plain": [
       "<function __main__.<lambda>(grades)>"
      ]
     },
     "execution_count": 36,
     "metadata": {},
     "output_type": "execute_result"
    }
   ],
   "source": [
    "avg3 = lambda grades:{key: sum(value)/len(value) for key,\n",
    "                value in grades.items()}\n",
    "\n",
    "avg3"
   ]
  },
  {
   "cell_type": "code",
   "execution_count": 37,
   "id": "ae4a9251",
   "metadata": {},
   "outputs": [
    {
     "data": {
      "text/plain": [
       "{'ali': 99.0, 'zahra': 79.0}"
      ]
     },
     "execution_count": 37,
     "metadata": {},
     "output_type": "execute_result"
    }
   ],
   "source": [
    "avg3(grades1)"
   ]
  },
  {
   "cell_type": "code",
   "execution_count": 38,
   "id": "4295b758",
   "metadata": {},
   "outputs": [
    {
     "data": {
      "text/plain": [
       "{'sara': 86.5, 'amin': 52.5}"
      ]
     },
     "execution_count": 38,
     "metadata": {},
     "output_type": "execute_result"
    }
   ],
   "source": [
    "avg3(grades2)"
   ]
  },
  {
   "cell_type": "markdown",
   "id": "f85b3431",
   "metadata": {},
   "source": [
    "## EX:\n",
    "    1. Prime Number\n",
    "\n",
    "    2. Sum of prime numbers between 1 t0 100  "
   ]
  },
  {
   "cell_type": "code",
   "execution_count": 39,
   "id": "5c64c086",
   "metadata": {},
   "outputs": [],
   "source": [
    "def is_prime(x):\n",
    "    if x < 2:\n",
    "        return False\n",
    "    for i in range(2, x):\n",
    "        if x % i == 0:\n",
    "            return False\n",
    "    return True"
   ]
  },
  {
   "cell_type": "code",
   "execution_count": 40,
   "id": "92918817",
   "metadata": {},
   "outputs": [
    {
     "data": {
      "text/plain": [
       "True"
      ]
     },
     "execution_count": 40,
     "metadata": {},
     "output_type": "execute_result"
    }
   ],
   "source": [
    "is_prime(x=17)"
   ]
  },
  {
   "cell_type": "code",
   "execution_count": 41,
   "id": "aa757c17",
   "metadata": {},
   "outputs": [],
   "source": [
    "def sum_prime(n, m):\n",
    "    Sum = 0\n",
    "    for num in range(n, m+1):\n",
    "        if is_prime(num):\n",
    "            Sum += num\n",
    "    return Sum"
   ]
  },
  {
   "cell_type": "code",
   "execution_count": 43,
   "id": "348f0fc9",
   "metadata": {},
   "outputs": [
    {
     "data": {
      "text/plain": [
       "17"
      ]
     },
     "execution_count": 43,
     "metadata": {},
     "output_type": "execute_result"
    }
   ],
   "source": [
    "sum_prime(n=1, m=10) #2, 3, 5, 7"
   ]
  },
  {
   "cell_type": "code",
   "execution_count": 44,
   "id": "7b01ad02",
   "metadata": {},
   "outputs": [
    {
     "name": "stdout",
     "output_type": "stream",
     "text": [
      "Sum of prime numbers from 1 to 10 is: 17\n"
     ]
    }
   ],
   "source": [
    "n, m = 1, 10\n",
    "\n",
    "print(f\"Sum of prime numbers from {n} to {m} is: {sum_prime(n=1, m=10)}\")"
   ]
  },
  {
   "cell_type": "markdown",
   "id": "7bf5b484",
   "metadata": {},
   "source": [
    "# Finished!"
   ]
  }
 ],
 "metadata": {
  "kernelspec": {
   "display_name": "Python 3 (ipykernel)",
   "language": "python",
   "name": "python3"
  },
  "language_info": {
   "codemirror_mode": {
    "name": "ipython",
    "version": 3
   },
   "file_extension": ".py",
   "mimetype": "text/x-python",
   "name": "python",
   "nbconvert_exporter": "python",
   "pygments_lexer": "ipython3",
   "version": "3.9.12"
  }
 },
 "nbformat": 4,
 "nbformat_minor": 5
}
