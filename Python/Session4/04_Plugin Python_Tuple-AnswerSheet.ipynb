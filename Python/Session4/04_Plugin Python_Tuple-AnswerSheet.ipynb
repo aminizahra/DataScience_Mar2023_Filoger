{
 "cells": [
  {
   "cell_type": "markdown",
   "id": "1ad88825",
   "metadata": {},
   "source": [
    "<img src=\"https://filoger.com/wp-content/uploads/2021/09/circle-logo-1536x1536.png\" alt=\"Filoger\" width=\"200\" height=\"200\">\n",
    "\n",
    "<h1 align=\"center\"><font size = 14>Plugin Python</font></h1>\n",
    "<h4 align=\"center\">June, 2023<h4>\n",
    "<h3 align=\"center\"><font size = 7>Session4</font></h3>\n",
    "<h3 align=\"center\">Zahra Amini</h3>\n",
    "<br>\n",
    "<br>\n",
    "<br>\n",
    "<br>\n",
    "<br>"
   ]
  },
  {
   "cell_type": "markdown",
   "id": "7681d0f7",
   "metadata": {},
   "source": [
    "## Tuple"
   ]
  },
  {
   "cell_type": "code",
   "execution_count": 1,
   "id": "513cc439",
   "metadata": {},
   "outputs": [
    {
     "data": {
      "text/plain": [
       "(1, 2.4, True, 'str', [1, 2], (3, 4), {'k': 1, 'k2': 2})"
      ]
     },
     "execution_count": 1,
     "metadata": {},
     "output_type": "execute_result"
    }
   ],
   "source": [
    "tuple1 = (1, 2.4, True, 'str', [1, 2], (3, 4), {'k':1, 'k2':2})\n",
    "\n",
    "tuple1"
   ]
  },
  {
   "cell_type": "code",
   "execution_count": 2,
   "id": "92b5fcc4",
   "metadata": {},
   "outputs": [
    {
     "data": {
      "text/plain": [
       "tuple"
      ]
     },
     "execution_count": 2,
     "metadata": {},
     "output_type": "execute_result"
    }
   ],
   "source": [
    "t = (3,)\n",
    "\n",
    "type(t)"
   ]
  },
  {
   "cell_type": "code",
   "execution_count": 3,
   "id": "fcbf6a9f",
   "metadata": {},
   "outputs": [
    {
     "data": {
      "text/plain": [
       "tuple"
      ]
     },
     "execution_count": 3,
     "metadata": {},
     "output_type": "execute_result"
    }
   ],
   "source": [
    "t1 = ()\n",
    "type(t1)"
   ]
  },
  {
   "cell_type": "code",
   "execution_count": 4,
   "id": "fac641ef",
   "metadata": {},
   "outputs": [
    {
     "data": {
      "text/plain": [
       "tuple"
      ]
     },
     "execution_count": 4,
     "metadata": {},
     "output_type": "execute_result"
    }
   ],
   "source": [
    "t2 = tuple()\n",
    "\n",
    "type(t2)"
   ]
  },
  {
   "cell_type": "code",
   "execution_count": null,
   "id": "1a6c4739",
   "metadata": {},
   "outputs": [],
   "source": []
  },
  {
   "cell_type": "markdown",
   "id": "783b6ad8",
   "metadata": {},
   "source": [
    "### Concatenate"
   ]
  },
  {
   "cell_type": "code",
   "execution_count": 5,
   "id": "1c7da44a",
   "metadata": {},
   "outputs": [
    {
     "data": {
      "text/plain": [
       "(1, 2.4, True, 'str', [1, 2], (3, 4), {'k': 1, 'k2': 2})"
      ]
     },
     "execution_count": 5,
     "metadata": {},
     "output_type": "execute_result"
    }
   ],
   "source": [
    "tuple1"
   ]
  },
  {
   "cell_type": "code",
   "execution_count": 7,
   "id": "bccdbded",
   "metadata": {},
   "outputs": [
    {
     "data": {
      "text/plain": [
       "('one', 'two', 'three')"
      ]
     },
     "execution_count": 7,
     "metadata": {},
     "output_type": "execute_result"
    }
   ],
   "source": [
    "tuple2 = ('one', 'two', 'three')\n",
    "\n",
    "tuple2"
   ]
  },
  {
   "cell_type": "code",
   "execution_count": 8,
   "id": "aba397f5",
   "metadata": {},
   "outputs": [
    {
     "data": {
      "text/plain": [
       "(1, 2.4, True, 'str', [1, 2], (3, 4), {'k': 1, 'k2': 2}, 'one', 'two', 'three')"
      ]
     },
     "execution_count": 8,
     "metadata": {},
     "output_type": "execute_result"
    }
   ],
   "source": [
    "t_new = tuple1 + tuple2\n",
    "t_new"
   ]
  },
  {
   "cell_type": "markdown",
   "id": "a83de5e1",
   "metadata": {},
   "source": [
    "### Duplicate"
   ]
  },
  {
   "cell_type": "code",
   "execution_count": 9,
   "id": "53c07be7",
   "metadata": {},
   "outputs": [
    {
     "data": {
      "text/plain": [
       "('one', 'two', 'three', 'one', 'two', 'three')"
      ]
     },
     "execution_count": 9,
     "metadata": {},
     "output_type": "execute_result"
    }
   ],
   "source": [
    "tuple2 * 2"
   ]
  },
  {
   "cell_type": "code",
   "execution_count": 10,
   "id": "fcd8b6df",
   "metadata": {},
   "outputs": [
    {
     "data": {
      "text/plain": [
       "('one',\n",
       " 'two',\n",
       " 'three',\n",
       " 'one',\n",
       " 'two',\n",
       " 'three',\n",
       " 'one',\n",
       " 'two',\n",
       " 'three',\n",
       " 'one',\n",
       " 'two',\n",
       " 'three',\n",
       " 'one',\n",
       " 'two',\n",
       " 'three')"
      ]
     },
     "execution_count": 10,
     "metadata": {},
     "output_type": "execute_result"
    }
   ],
   "source": [
    "tuple2 * 5"
   ]
  },
  {
   "cell_type": "code",
   "execution_count": null,
   "id": "1985e7fd",
   "metadata": {},
   "outputs": [],
   "source": []
  },
  {
   "cell_type": "markdown",
   "id": "d744b661",
   "metadata": {},
   "source": [
    "### Check Value"
   ]
  },
  {
   "cell_type": "code",
   "execution_count": 30,
   "id": "5dcb381a",
   "metadata": {},
   "outputs": [
    {
     "data": {
      "text/plain": [
       "True"
      ]
     },
     "execution_count": 30,
     "metadata": {},
     "output_type": "execute_result"
    }
   ],
   "source": [
    "1 in tuple1"
   ]
  },
  {
   "cell_type": "code",
   "execution_count": 12,
   "id": "a33199f0",
   "metadata": {},
   "outputs": [
    {
     "data": {
      "text/plain": [
       "(1, 2.4, True, 'str', [1, 2], (3, 4), {'k': 1, 'k2': 2})"
      ]
     },
     "execution_count": 12,
     "metadata": {},
     "output_type": "execute_result"
    }
   ],
   "source": [
    "tuple1"
   ]
  },
  {
   "cell_type": "code",
   "execution_count": null,
   "id": "a2bb3fa1",
   "metadata": {},
   "outputs": [],
   "source": []
  },
  {
   "cell_type": "markdown",
   "id": "e66ff5bd",
   "metadata": {},
   "source": [
    "### Indexing & Slicing"
   ]
  },
  {
   "cell_type": "code",
   "execution_count": 13,
   "id": "ae27d0bc",
   "metadata": {},
   "outputs": [
    {
     "data": {
      "text/plain": [
       "(1, 2, 3, 4, 5, 6)"
      ]
     },
     "execution_count": 13,
     "metadata": {},
     "output_type": "execute_result"
    }
   ],
   "source": [
    "tuple3 = (1, 2, 3, 4, 5, 6)\n",
    "tuple3"
   ]
  },
  {
   "cell_type": "code",
   "execution_count": 14,
   "id": "60a990a4",
   "metadata": {},
   "outputs": [
    {
     "data": {
      "text/plain": [
       "3"
      ]
     },
     "execution_count": 14,
     "metadata": {},
     "output_type": "execute_result"
    }
   ],
   "source": [
    "tuple3[2]"
   ]
  },
  {
   "cell_type": "code",
   "execution_count": 15,
   "id": "1ec50aff",
   "metadata": {},
   "outputs": [
    {
     "data": {
      "text/plain": [
       "4"
      ]
     },
     "execution_count": 15,
     "metadata": {},
     "output_type": "execute_result"
    }
   ],
   "source": [
    "tuple3[-3]"
   ]
  },
  {
   "cell_type": "code",
   "execution_count": null,
   "id": "df251fc0",
   "metadata": {},
   "outputs": [],
   "source": []
  },
  {
   "cell_type": "markdown",
   "id": "669cc139",
   "metadata": {},
   "source": [
    "### Slicing"
   ]
  },
  {
   "cell_type": "code",
   "execution_count": 17,
   "id": "24221a7d",
   "metadata": {},
   "outputs": [
    {
     "data": {
      "text/plain": [
       "(2, 3)"
      ]
     },
     "execution_count": 17,
     "metadata": {},
     "output_type": "execute_result"
    }
   ],
   "source": [
    "tuple3[1:3]"
   ]
  },
  {
   "cell_type": "code",
   "execution_count": null,
   "id": "cb0b8539",
   "metadata": {},
   "outputs": [],
   "source": []
  },
  {
   "cell_type": "markdown",
   "id": "b09e4198",
   "metadata": {},
   "source": [
    "## Tuple VS. List"
   ]
  },
  {
   "cell_type": "code",
   "execution_count": 20,
   "id": "2b7f0db4",
   "metadata": {},
   "outputs": [
    {
     "data": {
      "text/plain": [
       "'a-b-c-d-e'"
      ]
     },
     "execution_count": 20,
     "metadata": {},
     "output_type": "execute_result"
    }
   ],
   "source": [
    "'-'.join(['a', 'b', 'c', 'd', 'e'])"
   ]
  },
  {
   "cell_type": "code",
   "execution_count": 21,
   "id": "f85bb386",
   "metadata": {},
   "outputs": [
    {
     "data": {
      "text/plain": [
       "'a-b-c-d-e'"
      ]
     },
     "execution_count": 21,
     "metadata": {},
     "output_type": "execute_result"
    }
   ],
   "source": [
    "'-'.join(('a', 'b', 'c', 'd', 'e'))"
   ]
  },
  {
   "cell_type": "code",
   "execution_count": 22,
   "id": "e811f0da",
   "metadata": {},
   "outputs": [
    {
     "name": "stdout",
     "output_type": "stream",
     "text": [
      "1000000 loops, best of 5: 225 nsec per loop\n"
     ]
    }
   ],
   "source": [
    "!python -m timeit \"'-'.join(['a', 'b', 'c', 'd', 'e'])\""
   ]
  },
  {
   "cell_type": "code",
   "execution_count": 23,
   "id": "1f20793f",
   "metadata": {},
   "outputs": [
    {
     "name": "stdout",
     "output_type": "stream",
     "text": [
      "2000000 loops, best of 5: 162 nsec per loop\n"
     ]
    }
   ],
   "source": [
    "!python -m timeit \"'-'.join(('a', 'b', 'c', 'd', 'e'))\""
   ]
  },
  {
   "cell_type": "markdown",
   "id": "ff6bcfc8",
   "metadata": {},
   "source": [
    "### Tuple --> Immutable"
   ]
  },
  {
   "cell_type": "code",
   "execution_count": 24,
   "id": "7901f9b7",
   "metadata": {},
   "outputs": [
    {
     "data": {
      "text/plain": [
       "(1, 2.4, True, 'str', [1, 2], (3, 4), {'k': 1, 'k2': 2})"
      ]
     },
     "execution_count": 24,
     "metadata": {},
     "output_type": "execute_result"
    }
   ],
   "source": [
    "tuple1"
   ]
  },
  {
   "cell_type": "code",
   "execution_count": 27,
   "id": "54cff109",
   "metadata": {},
   "outputs": [],
   "source": [
    "# tuple1[2] = False"
   ]
  },
  {
   "cell_type": "markdown",
   "id": "99bfa6f8",
   "metadata": {},
   "source": [
    "## Tuple in Dictionary"
   ]
  },
  {
   "cell_type": "code",
   "execution_count": 28,
   "id": "61d1355b",
   "metadata": {},
   "outputs": [
    {
     "data": {
      "text/plain": [
       "{(1, 2): 3}"
      ]
     },
     "execution_count": 28,
     "metadata": {},
     "output_type": "execute_result"
    }
   ],
   "source": [
    "d = {(1, 2):3}\n",
    "\n",
    "d"
   ]
  },
  {
   "cell_type": "code",
   "execution_count": 29,
   "id": "d9b2f361",
   "metadata": {},
   "outputs": [
    {
     "data": {
      "text/plain": [
       "20"
      ]
     },
     "execution_count": 29,
     "metadata": {},
     "output_type": "execute_result"
    }
   ],
   "source": [
    "a, b, c = (10, 20, 30)\n",
    "\n",
    "b"
   ]
  },
  {
   "cell_type": "code",
   "execution_count": null,
   "id": "7ac605e5",
   "metadata": {},
   "outputs": [],
   "source": []
  },
  {
   "cell_type": "markdown",
   "id": "4998f45c",
   "metadata": {},
   "source": [
    "## Loop and Tuple"
   ]
  },
  {
   "cell_type": "code",
   "execution_count": 31,
   "id": "5ebc3ed5",
   "metadata": {},
   "outputs": [
    {
     "data": {
      "text/plain": [
       "((1, 2), (3, 4), (5, 6), (7, 8))"
      ]
     },
     "execution_count": 31,
     "metadata": {},
     "output_type": "execute_result"
    }
   ],
   "source": [
    "tuple4 = ((1, 2), (3, 4), (5, 6), (7, 8))\n",
    "\n",
    "tuple4"
   ]
  },
  {
   "cell_type": "code",
   "execution_count": 32,
   "id": "e72e4317",
   "metadata": {},
   "outputs": [
    {
     "name": "stdout",
     "output_type": "stream",
     "text": [
      "(1, 2)\n",
      "(3, 4)\n",
      "(5, 6)\n",
      "(7, 8)\n"
     ]
    }
   ],
   "source": [
    "for item in tuple4:\n",
    "    print(item)"
   ]
  },
  {
   "cell_type": "code",
   "execution_count": 33,
   "id": "bb373db8",
   "metadata": {},
   "outputs": [
    {
     "name": "stdout",
     "output_type": "stream",
     "text": [
      "1 2\n",
      "3 4\n",
      "5 6\n",
      "7 8\n"
     ]
    }
   ],
   "source": [
    "for item1, item2 in tuple4:\n",
    "    print(item1, item2)"
   ]
  },
  {
   "cell_type": "code",
   "execution_count": 34,
   "id": "e9067bdc",
   "metadata": {},
   "outputs": [
    {
     "data": {
      "text/plain": [
       "((1, 2, -3), (4, 5, -6), (7, 8, -9))"
      ]
     },
     "execution_count": 34,
     "metadata": {},
     "output_type": "execute_result"
    }
   ],
   "source": [
    "tuple5 = ((1, 2, -3), (4, 5, -6), (7, 8, -9))\n",
    "tuple5"
   ]
  },
  {
   "cell_type": "code",
   "execution_count": 35,
   "id": "08f2b84b",
   "metadata": {},
   "outputs": [
    {
     "name": "stdout",
     "output_type": "stream",
     "text": [
      "[1, 2] -3\n",
      "[4, 5] -6\n",
      "[7, 8] -9\n"
     ]
    }
   ],
   "source": [
    "for *item1, item2 in tuple5:\n",
    "    print(item1, item2)"
   ]
  },
  {
   "cell_type": "code",
   "execution_count": 36,
   "id": "eea1fb45",
   "metadata": {},
   "outputs": [
    {
     "data": {
      "text/plain": [
       "{'Sara': 23, 'Ali': 12, 'Mahsa': 25}"
      ]
     },
     "execution_count": 36,
     "metadata": {},
     "output_type": "execute_result"
    }
   ],
   "source": [
    "dict1 = {'Sara':23, 'Ali':12, 'Mahsa': 25}\n",
    "\n",
    "dict1"
   ]
  },
  {
   "cell_type": "code",
   "execution_count": 39,
   "id": "fe1dbed9",
   "metadata": {},
   "outputs": [],
   "source": [
    "Age = ((name, age) for name, age in dict1.items() if age > 18)"
   ]
  },
  {
   "cell_type": "code",
   "execution_count": 40,
   "id": "4a49177b",
   "metadata": {},
   "outputs": [
    {
     "name": "stdout",
     "output_type": "stream",
     "text": [
      "('Sara', 23)\n",
      "('Mahsa', 25)\n"
     ]
    }
   ],
   "source": [
    "for item in Age:\n",
    "    print(item)"
   ]
  },
  {
   "cell_type": "code",
   "execution_count": null,
   "id": "40ff945b",
   "metadata": {},
   "outputs": [],
   "source": []
  },
  {
   "cell_type": "markdown",
   "id": "e5a003a2",
   "metadata": {},
   "source": [
    "## Tuple Methods"
   ]
  },
  {
   "cell_type": "code",
   "execution_count": 41,
   "id": "81eb68a0",
   "metadata": {},
   "outputs": [],
   "source": [
    "tuple7 = (1, 2, 3, 2, 5, 4, 6, 2, 2, 4)"
   ]
  },
  {
   "cell_type": "code",
   "execution_count": null,
   "id": "851ae7fd",
   "metadata": {},
   "outputs": [],
   "source": []
  },
  {
   "cell_type": "markdown",
   "id": "8271171d",
   "metadata": {},
   "source": [
    "### 1. Len"
   ]
  },
  {
   "cell_type": "code",
   "execution_count": 42,
   "id": "99570b89",
   "metadata": {},
   "outputs": [
    {
     "data": {
      "text/plain": [
       "10"
      ]
     },
     "execution_count": 42,
     "metadata": {},
     "output_type": "execute_result"
    }
   ],
   "source": [
    "tuple7.__len__()"
   ]
  },
  {
   "cell_type": "code",
   "execution_count": 43,
   "id": "ab35641a",
   "metadata": {},
   "outputs": [
    {
     "data": {
      "text/plain": [
       "10"
      ]
     },
     "execution_count": 43,
     "metadata": {},
     "output_type": "execute_result"
    }
   ],
   "source": [
    "len(tuple7)"
   ]
  },
  {
   "cell_type": "markdown",
   "id": "4a867160",
   "metadata": {},
   "source": [
    "### 2. count"
   ]
  },
  {
   "cell_type": "code",
   "execution_count": 44,
   "id": "9258acbb",
   "metadata": {},
   "outputs": [
    {
     "data": {
      "text/plain": [
       "4"
      ]
     },
     "execution_count": 44,
     "metadata": {},
     "output_type": "execute_result"
    }
   ],
   "source": [
    "tuple7.count(2)"
   ]
  },
  {
   "cell_type": "code",
   "execution_count": null,
   "id": "c698858b",
   "metadata": {},
   "outputs": [],
   "source": []
  },
  {
   "cell_type": "markdown",
   "id": "a1422503",
   "metadata": {},
   "source": [
    "### 3. index"
   ]
  },
  {
   "cell_type": "code",
   "execution_count": 45,
   "id": "916b1f1a",
   "metadata": {},
   "outputs": [
    {
     "data": {
      "text/plain": [
       "3"
      ]
     },
     "execution_count": 45,
     "metadata": {},
     "output_type": "execute_result"
    }
   ],
   "source": [
    "tuple7[2]"
   ]
  },
  {
   "cell_type": "code",
   "execution_count": 46,
   "id": "ad3e8ff5",
   "metadata": {},
   "outputs": [
    {
     "data": {
      "text/plain": [
       "2"
      ]
     },
     "execution_count": 46,
     "metadata": {},
     "output_type": "execute_result"
    }
   ],
   "source": [
    "tuple7.index(3)"
   ]
  },
  {
   "cell_type": "markdown",
   "id": "610dce86",
   "metadata": {},
   "source": [
    "### 4. Remove item"
   ]
  },
  {
   "cell_type": "code",
   "execution_count": 47,
   "id": "e409905b",
   "metadata": {},
   "outputs": [
    {
     "data": {
      "text/plain": [
       "(1, 2, 3, 2, 5, 4, 6, 2, 2, 4)"
      ]
     },
     "execution_count": 47,
     "metadata": {},
     "output_type": "execute_result"
    }
   ],
   "source": [
    "tuple7"
   ]
  },
  {
   "cell_type": "code",
   "execution_count": 48,
   "id": "9ebe0e65",
   "metadata": {},
   "outputs": [
    {
     "data": {
      "text/plain": [
       "(1, 2, 3, 5, 4, 6, 2, 2, 4)"
      ]
     },
     "execution_count": 48,
     "metadata": {},
     "output_type": "execute_result"
    }
   ],
   "source": [
    "t8 = tuple7[:3] + tuple7[4:]\n",
    "t8"
   ]
  },
  {
   "cell_type": "code",
   "execution_count": null,
   "id": "173847e2",
   "metadata": {},
   "outputs": [],
   "source": []
  },
  {
   "cell_type": "markdown",
   "id": "f8834e76",
   "metadata": {},
   "source": [
    "# Finished!"
   ]
  }
 ],
 "metadata": {
  "kernelspec": {
   "display_name": "Python 3 (ipykernel)",
   "language": "python",
   "name": "python3"
  },
  "language_info": {
   "codemirror_mode": {
    "name": "ipython",
    "version": 3
   },
   "file_extension": ".py",
   "mimetype": "text/x-python",
   "name": "python",
   "nbconvert_exporter": "python",
   "pygments_lexer": "ipython3",
   "version": "3.9.12"
  }
 },
 "nbformat": 4,
 "nbformat_minor": 5
}
