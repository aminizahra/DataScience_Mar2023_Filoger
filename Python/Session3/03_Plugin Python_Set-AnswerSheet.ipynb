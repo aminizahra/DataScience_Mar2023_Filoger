{
 "cells": [
  {
   "cell_type": "markdown",
   "id": "c2d1af6c",
   "metadata": {},
   "source": [
    "<img src=\"https://filoger.com/wp-content/uploads/2021/09/circle-logo-1536x1536.png\" alt=\"Filoger\" width=\"200\" height=\"200\">\n",
    "\n",
    "<h1 align=\"center\"><font size = 14>Plugin Python</font></h1>\n",
    "<h4 align=\"center\">June, 2023<h4>\n",
    "<h3 align=\"center\"><font size = 7>Session3</font></h3>\n",
    "<h3 align=\"center\">Zahra Amini</h3>\n",
    "<br>\n",
    "<br>\n",
    "<br>\n",
    "<br>\n",
    "<br>"
   ]
  },
  {
   "cell_type": "markdown",
   "id": "c46d847c",
   "metadata": {},
   "source": [
    "## Set"
   ]
  },
  {
   "cell_type": "code",
   "execution_count": 1,
   "id": "2a75a147",
   "metadata": {},
   "outputs": [
    {
     "data": {
      "text/plain": [
       "{1, 2, 3, 4, 5.5, False, 'string'}"
      ]
     },
     "execution_count": 1,
     "metadata": {},
     "output_type": "execute_result"
    }
   ],
   "source": [
    "set1 = {1, 2, 3, 4, 5.5, 'string', False}\n",
    "\n",
    "set1"
   ]
  },
  {
   "cell_type": "code",
   "execution_count": 2,
   "id": "f22e5dcc",
   "metadata": {},
   "outputs": [
    {
     "data": {
      "text/plain": [
       "set"
      ]
     },
     "execution_count": 2,
     "metadata": {},
     "output_type": "execute_result"
    }
   ],
   "source": [
    "type(set1)"
   ]
  },
  {
   "cell_type": "code",
   "execution_count": 3,
   "id": "880af935",
   "metadata": {},
   "outputs": [
    {
     "data": {
      "text/plain": [
       "{0, 1, 2, 3, 4, 5.5, 'string'}"
      ]
     },
     "execution_count": 3,
     "metadata": {},
     "output_type": "execute_result"
    }
   ],
   "source": [
    "set1 = {1, 2, 3, 4, 5.5,0, 'string', False}\n",
    "\n",
    "set1"
   ]
  },
  {
   "cell_type": "code",
   "execution_count": 4,
   "id": "6ee2fae3",
   "metadata": {},
   "outputs": [
    {
     "data": {
      "text/plain": [
       "set()"
      ]
     },
     "execution_count": 4,
     "metadata": {},
     "output_type": "execute_result"
    }
   ],
   "source": [
    "emp = set()\n",
    "emp"
   ]
  },
  {
   "cell_type": "markdown",
   "id": "bdcd7da8",
   "metadata": {},
   "source": [
    "## Duplicates are not allowed"
   ]
  },
  {
   "cell_type": "code",
   "execution_count": 5,
   "id": "4d8f6fd9",
   "metadata": {},
   "outputs": [
    {
     "data": {
      "text/plain": [
       "{1, 2, 3}"
      ]
     },
     "execution_count": 5,
     "metadata": {},
     "output_type": "execute_result"
    }
   ],
   "source": [
    "set2 = {1, 2, 3, 1, 2, 3}\n",
    "\n",
    "set2"
   ]
  },
  {
   "cell_type": "code",
   "execution_count": 7,
   "id": "6d3853f1",
   "metadata": {},
   "outputs": [
    {
     "data": {
      "text/plain": [
       "[1, 2, 3, 1, 2, 3]"
      ]
     },
     "execution_count": 7,
     "metadata": {},
     "output_type": "execute_result"
    }
   ],
   "source": [
    "ls = [1, 2, 3]\n",
    "\n",
    "list(ls * 2)"
   ]
  },
  {
   "cell_type": "code",
   "execution_count": 8,
   "id": "3dc6460c",
   "metadata": {},
   "outputs": [
    {
     "data": {
      "text/plain": [
       "{1, 2, 3}"
      ]
     },
     "execution_count": 8,
     "metadata": {},
     "output_type": "execute_result"
    }
   ],
   "source": [
    "ls = [1, 2, 3, 1, 2, 3]\n",
    "\n",
    "set(ls)"
   ]
  },
  {
   "cell_type": "markdown",
   "id": "7c568960",
   "metadata": {},
   "source": [
    "## Set --> Immutable"
   ]
  },
  {
   "cell_type": "code",
   "execution_count": 9,
   "id": "5d95c5c9",
   "metadata": {},
   "outputs": [
    {
     "data": {
      "text/plain": [
       "{1, 2, 'string'}"
      ]
     },
     "execution_count": 9,
     "metadata": {},
     "output_type": "execute_result"
    }
   ],
   "source": [
    "set3 = {1, 2, 'string', True}\n",
    "\n",
    "set3"
   ]
  },
  {
   "cell_type": "code",
   "execution_count": null,
   "id": "7d980fb8",
   "metadata": {},
   "outputs": [],
   "source": []
  },
  {
   "cell_type": "code",
   "execution_count": null,
   "id": "86995afa",
   "metadata": {},
   "outputs": [],
   "source": []
  },
  {
   "cell_type": "markdown",
   "id": "f55a94b7",
   "metadata": {},
   "source": [
    "## Loop and Set"
   ]
  },
  {
   "cell_type": "code",
   "execution_count": 10,
   "id": "001e1f52",
   "metadata": {},
   "outputs": [
    {
     "data": {
      "text/plain": [
       "{0, 1, 2, 3, 4, 5.5, 'string'}"
      ]
     },
     "execution_count": 10,
     "metadata": {},
     "output_type": "execute_result"
    }
   ],
   "source": [
    "set1"
   ]
  },
  {
   "cell_type": "code",
   "execution_count": 11,
   "id": "b294646b",
   "metadata": {},
   "outputs": [
    {
     "name": "stdout",
     "output_type": "stream",
     "text": [
      "0 1 2 3 4 5.5 string "
     ]
    }
   ],
   "source": [
    "for item in set1:\n",
    "    print(item, end=' ')"
   ]
  },
  {
   "cell_type": "code",
   "execution_count": 13,
   "id": "5003d0c3",
   "metadata": {},
   "outputs": [
    {
     "data": {
      "text/plain": [
       "{0, 1, 2, 3, 4, 5.5, 'string'}"
      ]
     },
     "execution_count": 13,
     "metadata": {},
     "output_type": "execute_result"
    }
   ],
   "source": [
    "set4 = {item for item in set1 if type(item) in [int, float, str]}\n",
    "\n",
    "set4"
   ]
  },
  {
   "cell_type": "code",
   "execution_count": null,
   "id": "5cd5dd9a",
   "metadata": {},
   "outputs": [],
   "source": []
  },
  {
   "cell_type": "markdown",
   "id": "80d6a3b6",
   "metadata": {},
   "source": [
    "## Set Methods"
   ]
  },
  {
   "cell_type": "markdown",
   "id": "f6458a7c",
   "metadata": {},
   "source": [
    "### 1. Len"
   ]
  },
  {
   "cell_type": "code",
   "execution_count": 14,
   "id": "d87fd0d0",
   "metadata": {},
   "outputs": [
    {
     "data": {
      "text/plain": [
       "{1, 2, 3, 4, 5}"
      ]
     },
     "execution_count": 14,
     "metadata": {},
     "output_type": "execute_result"
    }
   ],
   "source": [
    "set5 = {1, 2, 3, 4, 5}\n",
    "set5"
   ]
  },
  {
   "cell_type": "code",
   "execution_count": 16,
   "id": "7728b5ef",
   "metadata": {},
   "outputs": [
    {
     "data": {
      "text/plain": [
       "5"
      ]
     },
     "execution_count": 16,
     "metadata": {},
     "output_type": "execute_result"
    }
   ],
   "source": [
    "set5.__len__()"
   ]
  },
  {
   "cell_type": "code",
   "execution_count": 17,
   "id": "6e9ebab8",
   "metadata": {},
   "outputs": [
    {
     "data": {
      "text/plain": [
       "5"
      ]
     },
     "execution_count": 17,
     "metadata": {},
     "output_type": "execute_result"
    }
   ],
   "source": [
    "len(set5)"
   ]
  },
  {
   "cell_type": "code",
   "execution_count": null,
   "id": "e57086e6",
   "metadata": {},
   "outputs": [],
   "source": []
  },
  {
   "cell_type": "markdown",
   "id": "f9754132",
   "metadata": {},
   "source": [
    "### 2. add"
   ]
  },
  {
   "cell_type": "code",
   "execution_count": 18,
   "id": "8661c1f4",
   "metadata": {},
   "outputs": [
    {
     "data": {
      "text/plain": [
       "{1, 2, 3, 4, 5}"
      ]
     },
     "execution_count": 18,
     "metadata": {},
     "output_type": "execute_result"
    }
   ],
   "source": [
    "set5"
   ]
  },
  {
   "cell_type": "code",
   "execution_count": 19,
   "id": "2b6b9500",
   "metadata": {},
   "outputs": [],
   "source": [
    "set5.add(100)"
   ]
  },
  {
   "cell_type": "code",
   "execution_count": 20,
   "id": "e2bbeadb",
   "metadata": {},
   "outputs": [
    {
     "data": {
      "text/plain": [
       "{1, 2, 3, 4, 5, 100}"
      ]
     },
     "execution_count": 20,
     "metadata": {},
     "output_type": "execute_result"
    }
   ],
   "source": [
    "set5"
   ]
  },
  {
   "cell_type": "code",
   "execution_count": 21,
   "id": "6c94bd2a",
   "metadata": {},
   "outputs": [
    {
     "data": {
      "text/plain": [
       "{1, 2, 3, 3.5, 4, 5, 100}"
      ]
     },
     "execution_count": 21,
     "metadata": {},
     "output_type": "execute_result"
    }
   ],
   "source": [
    "set5.add(3.5)\n",
    "\n",
    "set5"
   ]
  },
  {
   "cell_type": "markdown",
   "id": "2e0b119e",
   "metadata": {},
   "source": [
    "### 3. update"
   ]
  },
  {
   "cell_type": "code",
   "execution_count": 22,
   "id": "a6dc6636",
   "metadata": {},
   "outputs": [
    {
     "data": {
      "text/plain": [
       "{'one', 'three', 'two'}"
      ]
     },
     "execution_count": 22,
     "metadata": {},
     "output_type": "execute_result"
    }
   ],
   "source": [
    "set6 = {'one', 'two', 'three'}\n",
    "set6"
   ]
  },
  {
   "cell_type": "code",
   "execution_count": 23,
   "id": "8685ea44",
   "metadata": {},
   "outputs": [
    {
     "data": {
      "text/plain": [
       "{1, 2, 3, 3.5, 4, 5, 100}"
      ]
     },
     "execution_count": 23,
     "metadata": {},
     "output_type": "execute_result"
    }
   ],
   "source": [
    "set5"
   ]
  },
  {
   "cell_type": "code",
   "execution_count": 24,
   "id": "b66096af",
   "metadata": {},
   "outputs": [
    {
     "data": {
      "text/plain": [
       "{1, 100, 2, 3, 3.5, 4, 5, 'one', 'three', 'two'}"
      ]
     },
     "execution_count": 24,
     "metadata": {},
     "output_type": "execute_result"
    }
   ],
   "source": [
    "set5.update(set6)\n",
    "\n",
    "set5"
   ]
  },
  {
   "cell_type": "markdown",
   "id": "13f2cf52",
   "metadata": {},
   "source": [
    "### 4. pop"
   ]
  },
  {
   "cell_type": "code",
   "execution_count": 25,
   "id": "885dc4e8",
   "metadata": {},
   "outputs": [
    {
     "data": {
      "text/plain": [
       "{1, 100, 2, 3, 3.5, 4, 5, 'one', 'three', 'two'}"
      ]
     },
     "execution_count": 25,
     "metadata": {},
     "output_type": "execute_result"
    }
   ],
   "source": [
    "set5"
   ]
  },
  {
   "cell_type": "code",
   "execution_count": 26,
   "id": "b9527d1e",
   "metadata": {},
   "outputs": [
    {
     "data": {
      "text/plain": [
       "{100, 2, 3, 3.5, 4, 5, 'one', 'three', 'two'}"
      ]
     },
     "execution_count": 26,
     "metadata": {},
     "output_type": "execute_result"
    }
   ],
   "source": [
    "set5.pop()\n",
    "set5"
   ]
  },
  {
   "cell_type": "code",
   "execution_count": 27,
   "id": "51b25d1f",
   "metadata": {},
   "outputs": [
    {
     "data": {
      "text/plain": [
       "{100, 2, 3, 3.5, 4, 5, 'one', 'three', 'two'}"
      ]
     },
     "execution_count": 27,
     "metadata": {},
     "output_type": "execute_result"
    }
   ],
   "source": [
    "set(set5)"
   ]
  },
  {
   "cell_type": "markdown",
   "id": "fae9ceb6",
   "metadata": {},
   "source": [
    "### 5. remove"
   ]
  },
  {
   "cell_type": "code",
   "execution_count": 28,
   "id": "3e62589b",
   "metadata": {},
   "outputs": [
    {
     "data": {
      "text/plain": [
       "{0, 1, 2, 3, 4, 5.5, 'string'}"
      ]
     },
     "execution_count": 28,
     "metadata": {},
     "output_type": "execute_result"
    }
   ],
   "source": [
    "set1"
   ]
  },
  {
   "cell_type": "code",
   "execution_count": 29,
   "id": "baacccb5",
   "metadata": {},
   "outputs": [],
   "source": [
    "set1.remove(0)"
   ]
  },
  {
   "cell_type": "code",
   "execution_count": 30,
   "id": "775c5585",
   "metadata": {},
   "outputs": [
    {
     "data": {
      "text/plain": [
       "{1, 2, 3, 4, 5.5, 'string'}"
      ]
     },
     "execution_count": 30,
     "metadata": {},
     "output_type": "execute_result"
    }
   ],
   "source": [
    "set1"
   ]
  },
  {
   "cell_type": "markdown",
   "id": "a8b5f054",
   "metadata": {},
   "source": [
    "### 6. union"
   ]
  },
  {
   "cell_type": "code",
   "execution_count": 42,
   "id": "61ec2be0",
   "metadata": {},
   "outputs": [],
   "source": [
    "set1 = {1, 2, 3, 4, 5}\n",
    "set2 = {'one', 'two', 'three'}\n",
    "set3 = {3, 4}\n",
    "set4 = {'three'}"
   ]
  },
  {
   "cell_type": "code",
   "execution_count": 33,
   "id": "aadea400",
   "metadata": {},
   "outputs": [
    {
     "data": {
      "text/plain": [
       "{1, 2, 3, 4, 5, 'one', 'three', 'two'}"
      ]
     },
     "execution_count": 33,
     "metadata": {},
     "output_type": "execute_result"
    }
   ],
   "source": [
    "set1.union(set2)"
   ]
  },
  {
   "cell_type": "code",
   "execution_count": null,
   "id": "6f55f99b",
   "metadata": {},
   "outputs": [],
   "source": []
  },
  {
   "cell_type": "markdown",
   "id": "ec2cbbaf",
   "metadata": {},
   "source": [
    "### 7. intersection"
   ]
  },
  {
   "cell_type": "code",
   "execution_count": 34,
   "id": "848e9f17",
   "metadata": {},
   "outputs": [
    {
     "data": {
      "text/plain": [
       "{3, 4}"
      ]
     },
     "execution_count": 34,
     "metadata": {},
     "output_type": "execute_result"
    }
   ],
   "source": [
    "set1.intersection(set3)"
   ]
  },
  {
   "cell_type": "code",
   "execution_count": null,
   "id": "e01c346d",
   "metadata": {},
   "outputs": [],
   "source": []
  },
  {
   "cell_type": "code",
   "execution_count": null,
   "id": "7a5f4abb",
   "metadata": {},
   "outputs": [],
   "source": []
  },
  {
   "cell_type": "markdown",
   "id": "b4c7d787",
   "metadata": {},
   "source": [
    "### 8. intersection_update"
   ]
  },
  {
   "cell_type": "code",
   "execution_count": 35,
   "id": "185de4d5",
   "metadata": {},
   "outputs": [],
   "source": [
    "set1.intersection_update(set3)"
   ]
  },
  {
   "cell_type": "code",
   "execution_count": 36,
   "id": "24ce2274",
   "metadata": {},
   "outputs": [
    {
     "data": {
      "text/plain": [
       "{3, 4}"
      ]
     },
     "execution_count": 36,
     "metadata": {},
     "output_type": "execute_result"
    }
   ],
   "source": [
    "set1"
   ]
  },
  {
   "cell_type": "code",
   "execution_count": 37,
   "id": "59138501",
   "metadata": {},
   "outputs": [
    {
     "data": {
      "text/plain": [
       "{3, 4}"
      ]
     },
     "execution_count": 37,
     "metadata": {},
     "output_type": "execute_result"
    }
   ],
   "source": [
    "set3"
   ]
  },
  {
   "cell_type": "code",
   "execution_count": null,
   "id": "40ebe1fb",
   "metadata": {},
   "outputs": [],
   "source": []
  },
  {
   "cell_type": "markdown",
   "id": "3033f06d",
   "metadata": {},
   "source": [
    "### 9. difference"
   ]
  },
  {
   "cell_type": "code",
   "execution_count": 39,
   "id": "8824b657",
   "metadata": {},
   "outputs": [
    {
     "data": {
      "text/plain": [
       "{1, 2, 5}"
      ]
     },
     "execution_count": 39,
     "metadata": {},
     "output_type": "execute_result"
    }
   ],
   "source": [
    "set1.difference(set3)  #set1 - set3"
   ]
  },
  {
   "cell_type": "code",
   "execution_count": null,
   "id": "441533f4",
   "metadata": {},
   "outputs": [],
   "source": []
  },
  {
   "cell_type": "code",
   "execution_count": null,
   "id": "f239942b",
   "metadata": {},
   "outputs": [],
   "source": []
  },
  {
   "cell_type": "markdown",
   "id": "6ba25182",
   "metadata": {},
   "source": [
    "### 10. difference_update"
   ]
  },
  {
   "cell_type": "code",
   "execution_count": 40,
   "id": "da5e3da4",
   "metadata": {},
   "outputs": [],
   "source": [
    "set1.difference_update(set3)"
   ]
  },
  {
   "cell_type": "code",
   "execution_count": 41,
   "id": "21cab2bc",
   "metadata": {},
   "outputs": [
    {
     "data": {
      "text/plain": [
       "{1, 2, 5}"
      ]
     },
     "execution_count": 41,
     "metadata": {},
     "output_type": "execute_result"
    }
   ],
   "source": [
    "set1"
   ]
  },
  {
   "cell_type": "code",
   "execution_count": null,
   "id": "8b356586",
   "metadata": {},
   "outputs": [],
   "source": []
  },
  {
   "cell_type": "markdown",
   "id": "8ae5e3ca",
   "metadata": {},
   "source": [
    "### 11. isdisjoint"
   ]
  },
  {
   "cell_type": "code",
   "execution_count": 43,
   "id": "21473e9d",
   "metadata": {},
   "outputs": [
    {
     "data": {
      "text/plain": [
       "True"
      ]
     },
     "execution_count": 43,
     "metadata": {},
     "output_type": "execute_result"
    }
   ],
   "source": [
    "set1.isdisjoint(set2)"
   ]
  },
  {
   "cell_type": "code",
   "execution_count": 44,
   "id": "2630c2bf",
   "metadata": {},
   "outputs": [
    {
     "data": {
      "text/plain": [
       "False"
      ]
     },
     "execution_count": 44,
     "metadata": {},
     "output_type": "execute_result"
    }
   ],
   "source": [
    "set1.isdisjoint(set3)"
   ]
  },
  {
   "cell_type": "code",
   "execution_count": null,
   "id": "e3000697",
   "metadata": {},
   "outputs": [],
   "source": []
  },
  {
   "cell_type": "markdown",
   "id": "02839190",
   "metadata": {},
   "source": [
    "### 12. issubset"
   ]
  },
  {
   "cell_type": "code",
   "execution_count": 45,
   "id": "30c11505",
   "metadata": {},
   "outputs": [
    {
     "data": {
      "text/plain": [
       "{1, 2, 3, 4, 5}"
      ]
     },
     "execution_count": 45,
     "metadata": {},
     "output_type": "execute_result"
    }
   ],
   "source": [
    "set1"
   ]
  },
  {
   "cell_type": "code",
   "execution_count": 46,
   "id": "a290cf11",
   "metadata": {},
   "outputs": [
    {
     "data": {
      "text/plain": [
       "{3, 4}"
      ]
     },
     "execution_count": 46,
     "metadata": {},
     "output_type": "execute_result"
    }
   ],
   "source": [
    "set3"
   ]
  },
  {
   "cell_type": "code",
   "execution_count": 47,
   "id": "5bf09f1a",
   "metadata": {},
   "outputs": [
    {
     "data": {
      "text/plain": [
       "True"
      ]
     },
     "execution_count": 47,
     "metadata": {},
     "output_type": "execute_result"
    }
   ],
   "source": [
    "set3.issubset(set1)"
   ]
  },
  {
   "cell_type": "code",
   "execution_count": 48,
   "id": "9158a33e",
   "metadata": {},
   "outputs": [
    {
     "data": {
      "text/plain": [
       "False"
      ]
     },
     "execution_count": 48,
     "metadata": {},
     "output_type": "execute_result"
    }
   ],
   "source": [
    "set3.issubset(set2)"
   ]
  },
  {
   "cell_type": "markdown",
   "id": "f5fbd651",
   "metadata": {},
   "source": [
    "## EX:\n",
    "         (p ^ q) U (q ^ r)"
   ]
  },
  {
   "cell_type": "code",
   "execution_count": null,
   "id": "2dcfb8ab",
   "metadata": {},
   "outputs": [],
   "source": []
  },
  {
   "cell_type": "code",
   "execution_count": null,
   "id": "57fd7c21",
   "metadata": {},
   "outputs": [],
   "source": []
  },
  {
   "cell_type": "code",
   "execution_count": null,
   "id": "388e2617",
   "metadata": {},
   "outputs": [],
   "source": []
  },
  {
   "cell_type": "markdown",
   "id": "5f847b46",
   "metadata": {},
   "source": [
    "## Example 4: \n",
    "                   Count items of a list"
   ]
  },
  {
   "cell_type": "code",
   "execution_count": 49,
   "id": "2a91ed9e",
   "metadata": {},
   "outputs": [
    {
     "data": {
      "text/plain": [
       "[1, 2, 3, 1, 2, 4, 5, 3, 6, 1, 2]"
      ]
     },
     "execution_count": 49,
     "metadata": {},
     "output_type": "execute_result"
    }
   ],
   "source": [
    "ls = [1, 2, 3, 1, 2, 4, 5, 3, 6, 1, 2]\n",
    "ls"
   ]
  },
  {
   "cell_type": "code",
   "execution_count": 50,
   "id": "8831ebd0",
   "metadata": {},
   "outputs": [
    {
     "data": {
      "text/plain": [
       "{1, 2, 3, 4, 5, 6}"
      ]
     },
     "execution_count": 50,
     "metadata": {},
     "output_type": "execute_result"
    }
   ],
   "source": [
    "d = {}\n",
    "\n",
    "s = set(ls)\n",
    "s"
   ]
  },
  {
   "cell_type": "code",
   "execution_count": 51,
   "id": "893239cc",
   "metadata": {},
   "outputs": [
    {
     "data": {
      "text/plain": [
       "{1: 3, 2: 3, 3: 2, 4: 1, 5: 1, 6: 1}"
      ]
     },
     "execution_count": 51,
     "metadata": {},
     "output_type": "execute_result"
    }
   ],
   "source": [
    "for item in s:\n",
    "    d[item] = ls.count(item)\n",
    "\n",
    "d"
   ]
  },
  {
   "cell_type": "code",
   "execution_count": null,
   "id": "73bf5b60",
   "metadata": {},
   "outputs": [],
   "source": []
  },
  {
   "cell_type": "markdown",
   "id": "6bd81ad5",
   "metadata": {},
   "source": [
    "# Finished!"
   ]
  }
 ],
 "metadata": {
  "kernelspec": {
   "display_name": "Python 3 (ipykernel)",
   "language": "python",
   "name": "python3"
  },
  "language_info": {
   "codemirror_mode": {
    "name": "ipython",
    "version": 3
   },
   "file_extension": ".py",
   "mimetype": "text/x-python",
   "name": "python",
   "nbconvert_exporter": "python",
   "pygments_lexer": "ipython3",
   "version": "3.9.12"
  }
 },
 "nbformat": 4,
 "nbformat_minor": 5
}
