{
 "cells": [
  {
   "cell_type": "markdown",
   "id": "3ba8d269",
   "metadata": {},
   "source": [
    "<img src=\"https://filoger.com/wp-content/uploads/2021/09/circle-logo-1536x1536.png\" alt=\"Filoger\" width=\"200\" height=\"200\">\n",
    "\n",
    "<h1 align=\"center\"><font size = 14>Plugin Python</font></h1>\n",
    "<h4 align=\"center\">June, 2023<h4>\n",
    "<h3 align=\"center\"><font size = 7>Session3</font></h3>\n",
    "<h3 align=\"center\">Zahra Amini</h3>\n",
    "<br>\n",
    "<br>\n",
    "<br>\n",
    "<br>\n",
    "<br>"
   ]
  },
  {
   "cell_type": "code",
   "execution_count": 1,
   "id": "c7b0ae54",
   "metadata": {},
   "outputs": [
    {
     "name": "stdout",
     "output_type": "stream",
     "text": [
      "6\n",
      "6.5\n",
      "7.0\n",
      "7.5\n",
      "8.0\n",
      "8.5\n",
      "9.0\n",
      "9.5\n",
      "10.0\n"
     ]
    }
   ],
   "source": [
    "num = 6\n",
    "\n",
    "while num <= 10:\n",
    "    print(num)\n",
    "    num += 0.5 # num = num + 0.5"
   ]
  },
  {
   "cell_type": "code",
   "execution_count": 2,
   "id": "33856bc8",
   "metadata": {},
   "outputs": [
    {
     "data": {
      "text/plain": [
       "10.5"
      ]
     },
     "execution_count": 2,
     "metadata": {},
     "output_type": "execute_result"
    }
   ],
   "source": [
    "num"
   ]
  },
  {
   "cell_type": "code",
   "execution_count": 3,
   "id": "22af5bb9",
   "metadata": {},
   "outputs": [
    {
     "data": {
      "text/plain": [
       "6"
      ]
     },
     "execution_count": 3,
     "metadata": {},
     "output_type": "execute_result"
    }
   ],
   "source": [
    "num = 123 #1 + 2 + 3 = 6\n",
    "sum1 = 0\n",
    "\n",
    "while (num != 0):\n",
    "    sum1 += (num % 10)\n",
    "    num = num // 10\n",
    "\n",
    "sum1"
   ]
  },
  {
   "cell_type": "code",
   "execution_count": null,
   "id": "b9761c75",
   "metadata": {},
   "outputs": [],
   "source": []
  },
  {
   "cell_type": "markdown",
   "id": "341df145",
   "metadata": {},
   "source": [
    "## Dictionary"
   ]
  },
  {
   "cell_type": "code",
   "execution_count": 4,
   "id": "7bd6b736",
   "metadata": {},
   "outputs": [
    {
     "data": {
      "text/plain": [
       "{'Filoger': '0921', 'Ali': '0937', 'Zahra': '0917'}"
      ]
     },
     "execution_count": 4,
     "metadata": {},
     "output_type": "execute_result"
    }
   ],
   "source": [
    "dict1 = {'Filoger':'0921', 'Ali':'0937', 'Zahra':'0917'}\n",
    "\n",
    "dict1"
   ]
  },
  {
   "cell_type": "code",
   "execution_count": 5,
   "id": "e51447a8",
   "metadata": {},
   "outputs": [
    {
     "data": {
      "text/plain": [
       "{'key1': 1, 'Key2': 'V2', 'Key_list': [1, 2, 3], False: 0}"
      ]
     },
     "execution_count": 5,
     "metadata": {},
     "output_type": "execute_result"
    }
   ],
   "source": [
    "dict2 = {'key1':1, 'Key2':'V2', 'Key_list':[1, 2, 3], False:0}\n",
    "dict2"
   ]
  },
  {
   "cell_type": "code",
   "execution_count": 6,
   "id": "36348d84",
   "metadata": {},
   "outputs": [
    {
     "data": {
      "text/plain": [
       "dict"
      ]
     },
     "execution_count": 6,
     "metadata": {},
     "output_type": "execute_result"
    }
   ],
   "source": [
    "type(dict2)"
   ]
  },
  {
   "cell_type": "code",
   "execution_count": 7,
   "id": "bc259bc4",
   "metadata": {},
   "outputs": [
    {
     "data": {
      "text/plain": [
       "{}"
      ]
     },
     "execution_count": 7,
     "metadata": {},
     "output_type": "execute_result"
    }
   ],
   "source": [
    "d = dict()\n",
    "d"
   ]
  },
  {
   "cell_type": "code",
   "execution_count": 8,
   "id": "fbc315bc",
   "metadata": {},
   "outputs": [
    {
     "data": {
      "text/plain": [
       "dict"
      ]
     },
     "execution_count": 8,
     "metadata": {},
     "output_type": "execute_result"
    }
   ],
   "source": [
    "type(d)"
   ]
  },
  {
   "cell_type": "markdown",
   "id": "ee5e19f1",
   "metadata": {},
   "source": [
    "### 1. immutable Keys"
   ]
  },
  {
   "cell_type": "code",
   "execution_count": 9,
   "id": "00291d25",
   "metadata": {},
   "outputs": [
    {
     "data": {
      "text/plain": [
       "{2: [1, 2, 3], 'Filoger': 'FDSS2023'}"
      ]
     },
     "execution_count": 9,
     "metadata": {},
     "output_type": "execute_result"
    }
   ],
   "source": [
    "{2:[1, 2, 3], 'Filoger':'FDSS2023'}"
   ]
  },
  {
   "cell_type": "code",
   "execution_count": 10,
   "id": "0f84e049",
   "metadata": {},
   "outputs": [
    {
     "ename": "TypeError",
     "evalue": "unhashable type: 'list'",
     "output_type": "error",
     "traceback": [
      "\u001b[1;31m---------------------------------------------------------------------------\u001b[0m",
      "\u001b[1;31mTypeError\u001b[0m                                 Traceback (most recent call last)",
      "\u001b[1;32m~\\AppData\\Local\\Temp\\ipykernel_15692\\2817152218.py\u001b[0m in \u001b[0;36m<module>\u001b[1;34m\u001b[0m\n\u001b[1;32m----> 1\u001b[1;33m \u001b[1;33m{\u001b[0m\u001b[1;33m[\u001b[0m\u001b[1;36m1\u001b[0m\u001b[1;33m,\u001b[0m \u001b[1;36m2\u001b[0m\u001b[1;33m,\u001b[0m \u001b[1;36m3\u001b[0m\u001b[1;33m]\u001b[0m\u001b[1;33m:\u001b[0m\u001b[1;36m2\u001b[0m\u001b[1;33m}\u001b[0m\u001b[1;33m\u001b[0m\u001b[1;33m\u001b[0m\u001b[0m\n\u001b[0m",
      "\u001b[1;31mTypeError\u001b[0m: unhashable type: 'list'"
     ]
    }
   ],
   "source": [
    "# {[1, 2, 3]:2}"
   ]
  },
  {
   "cell_type": "code",
   "execution_count": null,
   "id": "906e688c",
   "metadata": {},
   "outputs": [],
   "source": []
  },
  {
   "cell_type": "markdown",
   "id": "6e8df8ee",
   "metadata": {},
   "source": [
    "### 2. Nested Dictionaries"
   ]
  },
  {
   "cell_type": "code",
   "execution_count": 11,
   "id": "4885e12c",
   "metadata": {},
   "outputs": [
    {
     "data": {
      "text/plain": [
       "{'name': 'Zahra',\n",
       " 'age': 27,\n",
       " 'grades': [87, 90, 44, 98],\n",
       " 'address': {'city': 'babak', 'street': 'SH', 'zip': 1234}}"
      ]
     },
     "execution_count": 11,
     "metadata": {},
     "output_type": "execute_result"
    }
   ],
   "source": [
    "dict3 = {'name':'Zahra', 'age':27, 'grades':[87, 90, 44, 98],\n",
    "         'address':{'city':'babak', 'street':'SH', 'zip':1234}}\n",
    "\n",
    "dict3"
   ]
  },
  {
   "cell_type": "code",
   "execution_count": null,
   "id": "aa186f11",
   "metadata": {},
   "outputs": [],
   "source": []
  },
  {
   "cell_type": "code",
   "execution_count": null,
   "id": "16c98c9f",
   "metadata": {},
   "outputs": [],
   "source": []
  },
  {
   "cell_type": "markdown",
   "id": "f15050aa",
   "metadata": {},
   "source": [
    "### 3. Dictionary Indexing"
   ]
  },
  {
   "cell_type": "code",
   "execution_count": 12,
   "id": "97ccabba",
   "metadata": {},
   "outputs": [
    {
     "data": {
      "text/plain": [
       "{'k1': 1, 'k2': 2, 'k3': 3}"
      ]
     },
     "execution_count": 12,
     "metadata": {},
     "output_type": "execute_result"
    }
   ],
   "source": [
    "dict4 = {'k1':1, 'k2':2, 'k3':3}\n",
    "\n",
    "dict4"
   ]
  },
  {
   "cell_type": "code",
   "execution_count": 13,
   "id": "4b8ffdd9",
   "metadata": {},
   "outputs": [
    {
     "data": {
      "text/plain": [
       "2"
      ]
     },
     "execution_count": 13,
     "metadata": {},
     "output_type": "execute_result"
    }
   ],
   "source": [
    "dict4['k2']"
   ]
  },
  {
   "cell_type": "code",
   "execution_count": 14,
   "id": "d0e427a2",
   "metadata": {},
   "outputs": [
    {
     "data": {
      "text/plain": [
       "{'name': 'Zahra',\n",
       " 'age': 27,\n",
       " 'grades': [87, 90, 44, 98],\n",
       " 'address': {'city': 'babak', 'street': 'SH', 'zip': 1234}}"
      ]
     },
     "execution_count": 14,
     "metadata": {},
     "output_type": "execute_result"
    }
   ],
   "source": [
    "dict3"
   ]
  },
  {
   "cell_type": "code",
   "execution_count": 16,
   "id": "8fdec011",
   "metadata": {},
   "outputs": [
    {
     "data": {
      "text/plain": [
       "'babak'"
      ]
     },
     "execution_count": 16,
     "metadata": {},
     "output_type": "execute_result"
    }
   ],
   "source": [
    "dict3['address']['city']"
   ]
  },
  {
   "cell_type": "code",
   "execution_count": null,
   "id": "32eb9b0d",
   "metadata": {},
   "outputs": [],
   "source": []
  },
  {
   "cell_type": "markdown",
   "id": "5b0ec213",
   "metadata": {},
   "source": [
    "### 4.Check Key"
   ]
  },
  {
   "cell_type": "code",
   "execution_count": 17,
   "id": "fcb76c6b",
   "metadata": {},
   "outputs": [
    {
     "data": {
      "text/plain": [
       "{'name': 'Zahra',\n",
       " 'age': 27,\n",
       " 'grades': [87, 90, 44, 98],\n",
       " 'address': {'city': 'babak', 'street': 'SH', 'zip': 1234}}"
      ]
     },
     "execution_count": 17,
     "metadata": {},
     "output_type": "execute_result"
    }
   ],
   "source": [
    "dict3"
   ]
  },
  {
   "cell_type": "code",
   "execution_count": 18,
   "id": "e954fad3",
   "metadata": {},
   "outputs": [
    {
     "data": {
      "text/plain": [
       "False"
      ]
     },
     "execution_count": 18,
     "metadata": {},
     "output_type": "execute_result"
    }
   ],
   "source": [
    "'edu' in dict3"
   ]
  },
  {
   "cell_type": "code",
   "execution_count": 19,
   "id": "c9ba8013",
   "metadata": {},
   "outputs": [
    {
     "data": {
      "text/plain": [
       "True"
      ]
     },
     "execution_count": 19,
     "metadata": {},
     "output_type": "execute_result"
    }
   ],
   "source": [
    "'name' in dict3"
   ]
  },
  {
   "cell_type": "code",
   "execution_count": 21,
   "id": "2bbd7960",
   "metadata": {},
   "outputs": [
    {
     "data": {
      "text/plain": [
       "True"
      ]
     },
     "execution_count": 21,
     "metadata": {},
     "output_type": "execute_result"
    }
   ],
   "source": [
    "'city' in dict3['address']"
   ]
  },
  {
   "cell_type": "code",
   "execution_count": null,
   "id": "e97de8b9",
   "metadata": {},
   "outputs": [],
   "source": []
  },
  {
   "cell_type": "markdown",
   "id": "91247a8f",
   "metadata": {},
   "source": [
    "### 5. Add key-values"
   ]
  },
  {
   "cell_type": "code",
   "execution_count": 22,
   "id": "14411597",
   "metadata": {},
   "outputs": [
    {
     "data": {
      "text/plain": [
       "{'Filoger': '0921', 'Ali': '0937', 'Zahra': '0917'}"
      ]
     },
     "execution_count": 22,
     "metadata": {},
     "output_type": "execute_result"
    }
   ],
   "source": [
    "dict1"
   ]
  },
  {
   "cell_type": "code",
   "execution_count": 23,
   "id": "1653eaf2",
   "metadata": {},
   "outputs": [],
   "source": [
    "dict1['Sara'] = '0920'"
   ]
  },
  {
   "cell_type": "code",
   "execution_count": 24,
   "id": "94355e75",
   "metadata": {},
   "outputs": [
    {
     "data": {
      "text/plain": [
       "{'Filoger': '0921', 'Ali': '0937', 'Zahra': '0917', 'Sara': '0920'}"
      ]
     },
     "execution_count": 24,
     "metadata": {},
     "output_type": "execute_result"
    }
   ],
   "source": [
    "dict1"
   ]
  },
  {
   "cell_type": "code",
   "execution_count": 25,
   "id": "3dd76af9",
   "metadata": {},
   "outputs": [
    {
     "data": {
      "text/plain": [
       "{'Filoger': '0921',\n",
       " 'Ali': '0937',\n",
       " 'Zahra': '0917',\n",
       " 'Sara': '0920',\n",
       " 'Mohammad': ['0920', '0921']}"
      ]
     },
     "execution_count": 25,
     "metadata": {},
     "output_type": "execute_result"
    }
   ],
   "source": [
    "dict1['Mohammad'] = ['0920', '0921']\n",
    "\n",
    "dict1"
   ]
  },
  {
   "cell_type": "markdown",
   "id": "cd1f6729",
   "metadata": {},
   "source": [
    "### 6. Change Value"
   ]
  },
  {
   "cell_type": "code",
   "execution_count": 26,
   "id": "e04fff72",
   "metadata": {},
   "outputs": [
    {
     "data": {
      "text/plain": [
       "{'Filoger': '0921',\n",
       " 'Ali': '0937',\n",
       " 'Zahra': '0917',\n",
       " 'Sara': '0920',\n",
       " 'Mohammad': ['0920', '0921']}"
      ]
     },
     "execution_count": 26,
     "metadata": {},
     "output_type": "execute_result"
    }
   ],
   "source": [
    "dict1"
   ]
  },
  {
   "cell_type": "code",
   "execution_count": 27,
   "id": "c0e6a963",
   "metadata": {},
   "outputs": [
    {
     "data": {
      "text/plain": [
       "{'Filoger': '0921',\n",
       " 'Ali': '0937',\n",
       " 'Zahra': '0913',\n",
       " 'Sara': '0920',\n",
       " 'Mohammad': ['0920', '0921']}"
      ]
     },
     "execution_count": 27,
     "metadata": {},
     "output_type": "execute_result"
    }
   ],
   "source": [
    "dict1['Zahra'] = '0913'\n",
    "\n",
    "dict1"
   ]
  },
  {
   "cell_type": "code",
   "execution_count": 28,
   "id": "9a688a73",
   "metadata": {},
   "outputs": [
    {
     "data": {
      "text/plain": [
       "{'name': 'Zahra',\n",
       " 'age': 27,\n",
       " 'grades': [87, 90, 44, 98],\n",
       " 'address': {'city': 'babak', 'street': 'SH', 'zip': 1234}}"
      ]
     },
     "execution_count": 28,
     "metadata": {},
     "output_type": "execute_result"
    }
   ],
   "source": [
    "dict3"
   ]
  },
  {
   "cell_type": "code",
   "execution_count": 29,
   "id": "dfa0dd34",
   "metadata": {},
   "outputs": [
    {
     "data": {
      "text/plain": [
       "{'name': 'Zahra',\n",
       " 'age': 27,\n",
       " 'grades': [87, 90, 100, 98],\n",
       " 'address': {'city': 'babak', 'street': 'SH', 'zip': 1234}}"
      ]
     },
     "execution_count": 29,
     "metadata": {},
     "output_type": "execute_result"
    }
   ],
   "source": [
    "dict3['grades'][2] = 100\n",
    "\n",
    "dict3"
   ]
  },
  {
   "cell_type": "markdown",
   "id": "c2f4577d",
   "metadata": {},
   "source": [
    "## Dictionary Methods"
   ]
  },
  {
   "cell_type": "markdown",
   "id": "3f18b9d5",
   "metadata": {},
   "source": [
    "### 1. Len"
   ]
  },
  {
   "cell_type": "code",
   "execution_count": 30,
   "id": "d3f6a599",
   "metadata": {},
   "outputs": [
    {
     "data": {
      "text/plain": [
       "{'key1': 1, 'Key2': 'V2', 'Key_list': [1, 2, 3], False: 0}"
      ]
     },
     "execution_count": 30,
     "metadata": {},
     "output_type": "execute_result"
    }
   ],
   "source": [
    "dict2"
   ]
  },
  {
   "cell_type": "code",
   "execution_count": 31,
   "id": "e6af7eac",
   "metadata": {},
   "outputs": [
    {
     "data": {
      "text/plain": [
       "4"
      ]
     },
     "execution_count": 31,
     "metadata": {},
     "output_type": "execute_result"
    }
   ],
   "source": [
    "dict2.__len__()"
   ]
  },
  {
   "cell_type": "code",
   "execution_count": 32,
   "id": "8a5f956d",
   "metadata": {},
   "outputs": [
    {
     "data": {
      "text/plain": [
       "4"
      ]
     },
     "execution_count": 32,
     "metadata": {},
     "output_type": "execute_result"
    }
   ],
   "source": [
    "len(dict2)"
   ]
  },
  {
   "cell_type": "markdown",
   "id": "799f8ad9",
   "metadata": {},
   "source": [
    "### 2. keys"
   ]
  },
  {
   "cell_type": "code",
   "execution_count": 33,
   "id": "7ef841f9",
   "metadata": {},
   "outputs": [
    {
     "data": {
      "text/plain": [
       "{'key1': 1, 'Key2': 'V2', 'Key_list': [1, 2, 3], False: 0}"
      ]
     },
     "execution_count": 33,
     "metadata": {},
     "output_type": "execute_result"
    }
   ],
   "source": [
    "dict2"
   ]
  },
  {
   "cell_type": "code",
   "execution_count": 34,
   "id": "b97acf0e",
   "metadata": {},
   "outputs": [
    {
     "data": {
      "text/plain": [
       "dict_keys(['key1', 'Key2', 'Key_list', False])"
      ]
     },
     "execution_count": 34,
     "metadata": {},
     "output_type": "execute_result"
    }
   ],
   "source": [
    "dict2.keys()"
   ]
  },
  {
   "cell_type": "code",
   "execution_count": null,
   "id": "772da7e4",
   "metadata": {},
   "outputs": [],
   "source": []
  },
  {
   "cell_type": "markdown",
   "id": "bee7d8b9",
   "metadata": {},
   "source": [
    "### 3. values"
   ]
  },
  {
   "cell_type": "code",
   "execution_count": 35,
   "id": "908897bc",
   "metadata": {},
   "outputs": [
    {
     "data": {
      "text/plain": [
       "{'key1': 1, 'Key2': 'V2', 'Key_list': [1, 2, 3], False: 0}"
      ]
     },
     "execution_count": 35,
     "metadata": {},
     "output_type": "execute_result"
    }
   ],
   "source": [
    "dict2"
   ]
  },
  {
   "cell_type": "code",
   "execution_count": 36,
   "id": "394760fd",
   "metadata": {},
   "outputs": [
    {
     "data": {
      "text/plain": [
       "dict_values([1, 'V2', [1, 2, 3], 0])"
      ]
     },
     "execution_count": 36,
     "metadata": {},
     "output_type": "execute_result"
    }
   ],
   "source": [
    "dict2.values()"
   ]
  },
  {
   "cell_type": "code",
   "execution_count": null,
   "id": "57c22d9a",
   "metadata": {},
   "outputs": [],
   "source": []
  },
  {
   "cell_type": "markdown",
   "id": "24e24a0e",
   "metadata": {},
   "source": [
    "### 4. items\n",
    "(Key, Value)"
   ]
  },
  {
   "cell_type": "code",
   "execution_count": 37,
   "id": "42de864d",
   "metadata": {},
   "outputs": [
    {
     "data": {
      "text/plain": [
       "{'key1': 1, 'Key2': 'V2', 'Key_list': [1, 2, 3], False: 0}"
      ]
     },
     "execution_count": 37,
     "metadata": {},
     "output_type": "execute_result"
    }
   ],
   "source": [
    "dict2"
   ]
  },
  {
   "cell_type": "code",
   "execution_count": 39,
   "id": "dec469a1",
   "metadata": {},
   "outputs": [],
   "source": [
    "d = dict2.items() #(Key, Value)"
   ]
  },
  {
   "cell_type": "code",
   "execution_count": 43,
   "id": "790c2366",
   "metadata": {},
   "outputs": [
    {
     "data": {
      "text/plain": [
       "dict_items([('key1', 1), ('Key2', 'V2'), ('Key_list', [1, 2, 3]), (False, 0)])"
      ]
     },
     "execution_count": 43,
     "metadata": {},
     "output_type": "execute_result"
    }
   ],
   "source": [
    "d"
   ]
  },
  {
   "cell_type": "code",
   "execution_count": 40,
   "id": "b3986e0b",
   "metadata": {},
   "outputs": [
    {
     "data": {
      "text/plain": [
       "dict_items"
      ]
     },
     "execution_count": 40,
     "metadata": {},
     "output_type": "execute_result"
    }
   ],
   "source": [
    "type(d)"
   ]
  },
  {
   "cell_type": "code",
   "execution_count": 41,
   "id": "5548c07e",
   "metadata": {},
   "outputs": [],
   "source": [
    "ls = list(d)"
   ]
  },
  {
   "cell_type": "code",
   "execution_count": 44,
   "id": "0022874e",
   "metadata": {},
   "outputs": [
    {
     "data": {
      "text/plain": [
       "[('key1', 1), ('Key2', 'V2'), ('Key_list', [1, 2, 3]), (False, 0)]"
      ]
     },
     "execution_count": 44,
     "metadata": {},
     "output_type": "execute_result"
    }
   ],
   "source": [
    "ls"
   ]
  },
  {
   "cell_type": "code",
   "execution_count": 42,
   "id": "66a67708",
   "metadata": {},
   "outputs": [
    {
     "data": {
      "text/plain": [
       "('Key2', 'V2')"
      ]
     },
     "execution_count": 42,
     "metadata": {},
     "output_type": "execute_result"
    }
   ],
   "source": [
    "ls[1]"
   ]
  },
  {
   "cell_type": "markdown",
   "id": "3a163664",
   "metadata": {},
   "source": [
    "### 5. get"
   ]
  },
  {
   "cell_type": "code",
   "execution_count": 45,
   "id": "1ba7a218",
   "metadata": {},
   "outputs": [
    {
     "data": {
      "text/plain": [
       "{'Filoger': '0921',\n",
       " 'Ali': '0937',\n",
       " 'Zahra': '0913',\n",
       " 'Sara': '0920',\n",
       " 'Mohammad': ['0920', '0921']}"
      ]
     },
     "execution_count": 45,
     "metadata": {},
     "output_type": "execute_result"
    }
   ],
   "source": [
    "dict1"
   ]
  },
  {
   "cell_type": "code",
   "execution_count": 46,
   "id": "e7d09e3e",
   "metadata": {},
   "outputs": [
    {
     "data": {
      "text/plain": [
       "'0921'"
      ]
     },
     "execution_count": 46,
     "metadata": {},
     "output_type": "execute_result"
    }
   ],
   "source": [
    "dict1.get('Filoger')"
   ]
  },
  {
   "cell_type": "code",
   "execution_count": 47,
   "id": "65a58393",
   "metadata": {},
   "outputs": [
    {
     "data": {
      "text/plain": [
       "'0921'"
      ]
     },
     "execution_count": 47,
     "metadata": {},
     "output_type": "execute_result"
    }
   ],
   "source": [
    "dict1['Filoger']"
   ]
  },
  {
   "cell_type": "code",
   "execution_count": null,
   "id": "649752b8",
   "metadata": {},
   "outputs": [],
   "source": []
  },
  {
   "cell_type": "markdown",
   "id": "94b071b2",
   "metadata": {},
   "source": [
    "### 6. update"
   ]
  },
  {
   "cell_type": "code",
   "execution_count": 48,
   "id": "4572ffec",
   "metadata": {},
   "outputs": [
    {
     "data": {
      "text/plain": [
       "{'Filoger': '0921',\n",
       " 'Ali': '0937',\n",
       " 'Zahra': '0913',\n",
       " 'Sara': '0920',\n",
       " 'Mohammad': ['0920', '0921']}"
      ]
     },
     "execution_count": 48,
     "metadata": {},
     "output_type": "execute_result"
    }
   ],
   "source": [
    "dict1"
   ]
  },
  {
   "cell_type": "code",
   "execution_count": 49,
   "id": "a926e3c1",
   "metadata": {},
   "outputs": [
    {
     "data": {
      "text/plain": [
       "{'Filoger': '0921',\n",
       " 'Ali': 123,\n",
       " 'Zahra': '0913',\n",
       " 'Sara': '0920',\n",
       " 'Mohammad': '0930'}"
      ]
     },
     "execution_count": 49,
     "metadata": {},
     "output_type": "execute_result"
    }
   ],
   "source": [
    "dict1.update({'Ali':123, 'Mohammad':'0930'})\n",
    "\n",
    "dict1"
   ]
  },
  {
   "cell_type": "code",
   "execution_count": 51,
   "id": "1c9edfd5",
   "metadata": {},
   "outputs": [
    {
     "data": {
      "text/plain": [
       "dict_items([('Filoger', '0921'), ('Ali', 123), ('Zahra', '0913'), ('Sara', '0920'), ('Mohammad', '0930')])"
      ]
     },
     "execution_count": 51,
     "metadata": {},
     "output_type": "execute_result"
    }
   ],
   "source": [
    "dict1.items()"
   ]
  },
  {
   "cell_type": "markdown",
   "id": "5d54592c",
   "metadata": {},
   "source": [
    "### 7. pop"
   ]
  },
  {
   "cell_type": "code",
   "execution_count": 52,
   "id": "d3e86af8",
   "metadata": {},
   "outputs": [
    {
     "data": {
      "text/plain": [
       "{'Filoger': '0921',\n",
       " 'Ali': 123,\n",
       " 'Zahra': '0913',\n",
       " 'Sara': '0920',\n",
       " 'Mohammad': '0930'}"
      ]
     },
     "execution_count": 52,
     "metadata": {},
     "output_type": "execute_result"
    }
   ],
   "source": [
    "dict1"
   ]
  },
  {
   "cell_type": "code",
   "execution_count": 53,
   "id": "179d29dc",
   "metadata": {},
   "outputs": [
    {
     "data": {
      "text/plain": [
       "'0930'"
      ]
     },
     "execution_count": 53,
     "metadata": {},
     "output_type": "execute_result"
    }
   ],
   "source": [
    "dict1.pop('Mohammad')"
   ]
  },
  {
   "cell_type": "code",
   "execution_count": 54,
   "id": "436c2277",
   "metadata": {},
   "outputs": [
    {
     "data": {
      "text/plain": [
       "{'Filoger': '0921', 'Ali': 123, 'Zahra': '0913', 'Sara': '0920'}"
      ]
     },
     "execution_count": 54,
     "metadata": {},
     "output_type": "execute_result"
    }
   ],
   "source": [
    "dict1"
   ]
  },
  {
   "cell_type": "code",
   "execution_count": 55,
   "id": "3662afd7",
   "metadata": {},
   "outputs": [
    {
     "data": {
      "text/plain": [
       "('Sara', '0920')"
      ]
     },
     "execution_count": 55,
     "metadata": {},
     "output_type": "execute_result"
    }
   ],
   "source": [
    "dict1.popitem()"
   ]
  },
  {
   "cell_type": "code",
   "execution_count": 56,
   "id": "11fa7161",
   "metadata": {},
   "outputs": [
    {
     "data": {
      "text/plain": [
       "{'Filoger': '0921', 'Ali': 123, 'Zahra': '0913'}"
      ]
     },
     "execution_count": 56,
     "metadata": {},
     "output_type": "execute_result"
    }
   ],
   "source": [
    "dict1"
   ]
  },
  {
   "cell_type": "markdown",
   "id": "b09e1790",
   "metadata": {},
   "source": [
    "## Loop and Dictionary"
   ]
  },
  {
   "cell_type": "code",
   "execution_count": 57,
   "id": "9f1ddb27",
   "metadata": {},
   "outputs": [
    {
     "data": {
      "text/plain": [
       "{'Filoger': '0921', 'Ali': 123, 'Zahra': '0913'}"
      ]
     },
     "execution_count": 57,
     "metadata": {},
     "output_type": "execute_result"
    }
   ],
   "source": [
    "dict1"
   ]
  },
  {
   "cell_type": "code",
   "execution_count": 58,
   "id": "1601a712",
   "metadata": {},
   "outputs": [
    {
     "name": "stdout",
     "output_type": "stream",
     "text": [
      "Filoger\n",
      "Ali\n",
      "Zahra\n"
     ]
    }
   ],
   "source": [
    "for i in dict1:\n",
    "    print(i)"
   ]
  },
  {
   "cell_type": "code",
   "execution_count": 60,
   "id": "4aca27d3",
   "metadata": {},
   "outputs": [
    {
     "name": "stdout",
     "output_type": "stream",
     "text": [
      "Filoger ---> 0921\n",
      "Ali ---> 123\n",
      "Zahra ---> 0913\n"
     ]
    }
   ],
   "source": [
    "for key in dict1:\n",
    "    print(key, '--->', dict1[key])"
   ]
  },
  {
   "cell_type": "code",
   "execution_count": 61,
   "id": "76ae811d",
   "metadata": {},
   "outputs": [
    {
     "name": "stdout",
     "output_type": "stream",
     "text": [
      "Filoger ---> 0921\n",
      "Ali ---> 123\n",
      "Zahra ---> 0913\n"
     ]
    }
   ],
   "source": [
    "for key, value in dict1.items():\n",
    "    print(key, '--->', value)"
   ]
  },
  {
   "cell_type": "code",
   "execution_count": 62,
   "id": "898d9fb8",
   "metadata": {},
   "outputs": [
    {
     "data": {
      "text/plain": [
       "[['Filoger', '0921'], ['Ali', 123], ['Zahra', '0913']]"
      ]
     },
     "execution_count": 62,
     "metadata": {},
     "output_type": "execute_result"
    }
   ],
   "source": [
    "[[key, value] for key, value in dict1.items()]"
   ]
  },
  {
   "cell_type": "markdown",
   "id": "1314ba39",
   "metadata": {},
   "source": [
    "## EX"
   ]
  },
  {
   "cell_type": "code",
   "execution_count": 63,
   "id": "6e3aa652",
   "metadata": {},
   "outputs": [],
   "source": [
    "text = \"\"\"Never give in Never give in Never never never never in nothing great or small large or petty never give in except to convictions of honor and good sense\"\"\""
   ]
  },
  {
   "cell_type": "code",
   "execution_count": 64,
   "id": "bb8e9bfa",
   "metadata": {},
   "outputs": [
    {
     "data": {
      "text/plain": [
       "'Never give in Never give in Never never never never in nothing great or small large or petty never give in except to convictions of honor and good sense'"
      ]
     },
     "execution_count": 64,
     "metadata": {},
     "output_type": "execute_result"
    }
   ],
   "source": [
    "text"
   ]
  },
  {
   "cell_type": "code",
   "execution_count": 65,
   "id": "2dbea98c",
   "metadata": {},
   "outputs": [],
   "source": [
    "ls = text.split()"
   ]
  },
  {
   "cell_type": "code",
   "execution_count": 66,
   "id": "5845dec3",
   "metadata": {},
   "outputs": [
    {
     "data": {
      "text/plain": [
       "['Never',\n",
       " 'give',\n",
       " 'in',\n",
       " 'Never',\n",
       " 'give',\n",
       " 'in',\n",
       " 'Never',\n",
       " 'never',\n",
       " 'never',\n",
       " 'never',\n",
       " 'in',\n",
       " 'nothing',\n",
       " 'great',\n",
       " 'or',\n",
       " 'small',\n",
       " 'large',\n",
       " 'or',\n",
       " 'petty',\n",
       " 'never',\n",
       " 'give',\n",
       " 'in',\n",
       " 'except',\n",
       " 'to',\n",
       " 'convictions',\n",
       " 'of',\n",
       " 'honor',\n",
       " 'and',\n",
       " 'good',\n",
       " 'sense']"
      ]
     },
     "execution_count": 66,
     "metadata": {},
     "output_type": "execute_result"
    }
   ],
   "source": [
    "ls"
   ]
  },
  {
   "cell_type": "code",
   "execution_count": null,
   "id": "0f80760d",
   "metadata": {},
   "outputs": [],
   "source": [
    "# {'and': 3}"
   ]
  },
  {
   "cell_type": "code",
   "execution_count": 67,
   "id": "0dd79cff",
   "metadata": {},
   "outputs": [],
   "source": [
    "dict_w = {}\n",
    "\n",
    "for item in ls:\n",
    "    dict_w[item] = ls.count(item)"
   ]
  },
  {
   "cell_type": "code",
   "execution_count": 68,
   "id": "326843d2",
   "metadata": {},
   "outputs": [
    {
     "data": {
      "text/plain": [
       "{'Never': 3,\n",
       " 'give': 3,\n",
       " 'in': 4,\n",
       " 'never': 4,\n",
       " 'nothing': 1,\n",
       " 'great': 1,\n",
       " 'or': 2,\n",
       " 'small': 1,\n",
       " 'large': 1,\n",
       " 'petty': 1,\n",
       " 'except': 1,\n",
       " 'to': 1,\n",
       " 'convictions': 1,\n",
       " 'of': 1,\n",
       " 'honor': 1,\n",
       " 'and': 1,\n",
       " 'good': 1,\n",
       " 'sense': 1}"
      ]
     },
     "execution_count": 68,
     "metadata": {},
     "output_type": "execute_result"
    }
   ],
   "source": [
    "dict_w"
   ]
  },
  {
   "cell_type": "markdown",
   "id": "564f415c",
   "metadata": {},
   "source": [
    "### Extra"
   ]
  },
  {
   "cell_type": "code",
   "execution_count": null,
   "id": "d5d1b57a",
   "metadata": {},
   "outputs": [],
   "source": [
    "# Sum += 10  # Sum = Sum + 10"
   ]
  },
  {
   "cell_type": "code",
   "execution_count": 69,
   "id": "ba057c70",
   "metadata": {},
   "outputs": [],
   "source": [
    "ls3 = [1, 2, 3, 4, 5]"
   ]
  },
  {
   "cell_type": "code",
   "execution_count": 70,
   "id": "80176055",
   "metadata": {},
   "outputs": [
    {
     "data": {
      "text/plain": [
       "[1, 2, 3, 4, 5]"
      ]
     },
     "execution_count": 70,
     "metadata": {},
     "output_type": "execute_result"
    }
   ],
   "source": [
    "ls3"
   ]
  },
  {
   "cell_type": "code",
   "execution_count": 75,
   "id": "1d80d9b6",
   "metadata": {},
   "outputs": [],
   "source": [
    "for idx in [0, 1, 2, 3, 4]:\n",
    "    ls3[idx] += 10\n",
    "#     print(idx)"
   ]
  },
  {
   "cell_type": "code",
   "execution_count": 76,
   "id": "6efc8bfb",
   "metadata": {},
   "outputs": [
    {
     "data": {
      "text/plain": [
       "[11, 12, 13, 14, 15]"
      ]
     },
     "execution_count": 76,
     "metadata": {},
     "output_type": "execute_result"
    }
   ],
   "source": [
    "ls3"
   ]
  },
  {
   "cell_type": "code",
   "execution_count": null,
   "id": "3ac53f04",
   "metadata": {},
   "outputs": [],
   "source": []
  },
  {
   "cell_type": "markdown",
   "id": "4f9f7fc0",
   "metadata": {},
   "source": [
    "# Finished!"
   ]
  }
 ],
 "metadata": {
  "kernelspec": {
   "display_name": "Python 3 (ipykernel)",
   "language": "python",
   "name": "python3"
  },
  "language_info": {
   "codemirror_mode": {
    "name": "ipython",
    "version": 3
   },
   "file_extension": ".py",
   "mimetype": "text/x-python",
   "name": "python",
   "nbconvert_exporter": "python",
   "pygments_lexer": "ipython3",
   "version": "3.9.12"
  }
 },
 "nbformat": 4,
 "nbformat_minor": 5
}
